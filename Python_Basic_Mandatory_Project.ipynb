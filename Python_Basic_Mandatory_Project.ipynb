{
  "nbformat": 4,
  "nbformat_minor": 0,
  "metadata": {
    "colab": {
      "provenance": []
    },
    "kernelspec": {
      "name": "python3",
      "display_name": "Python 3"
    },
    "language_info": {
      "name": "python"
    }
  },
  "cells": [
    {
      "cell_type": "code",
      "source": [
        "# Problem1--WAP to find the common elements of both lists-------2nd approach\n",
        "\n",
        "List_1=[\"Ramesh\",\"Suresh\",\"Mahesh\",\"Ali\",\"Jacob\",\"Saritha\"]\n",
        "List_2=[\"Ali\",\"Mukesh\",\"Mahesh\",\"Jacob\",\"Sai\",\"Saritha\"]\n",
        "a_set=set(List_1)                      #Converting list into a set and assigning variable a_set to it\n",
        "b_set=set(List_2)                      #Converting list into a set and assigning variable b_set to it\n",
        "if (a_set & b_set):                    #Verifying the condition that both values should be there in both the lists\n",
        "        print(a_set & b_set)           # printing the values of the set a and b\n",
        "else:\n",
        "        print(\"No common elements\")\n",
        "\n"
      ],
      "metadata": {
        "colab": {
          "base_uri": "https://localhost:8080/"
        },
        "id": "BzYEa_dNjCNr",
        "outputId": "11568053-9553-4db7-e521-fe5acd5ade06"
      },
      "execution_count": null,
      "outputs": [
        {
          "output_type": "stream",
          "name": "stdout",
          "text": [
            "{'Mahesh', 'Saritha', 'Jacob', 'Ali'}\n"
          ]
        }
      ]
    },
    {
      "cell_type": "code",
      "source": [
        "# Problem1-  WAP to find the common elements of both lists(In-built function)---1st approach\n",
        "\n",
        "List_1=[\"Ramesh\",\"Suresh\",\"Mahesh\",\"Ali\",\"Jacob\",\"Saritha\"]\n",
        "List_2=[\"Ali\",\"Mukesh\",\"Mahesh\",\"Jacob\",\"Sai\",\"Saritha\"]\n",
        "common_list=list(set(List_1).intersection(List_2))\n",
        "print(common_list)"
      ],
      "metadata": {
        "colab": {
          "base_uri": "https://localhost:8080/"
        },
        "id": "AiLRXL2PwKYw",
        "outputId": "74f0dbe6-4489-4445-bcf0-84eb10c8ae8f"
      },
      "execution_count": null,
      "outputs": [
        {
          "output_type": "stream",
          "name": "stdout",
          "text": [
            "['Mahesh', 'Saritha', 'Jacob', 'Ali']\n"
          ]
        }
      ]
    },
    {
      "cell_type": "code",
      "source": [
        "#Problem-2---Separates all names and convert them into list\n",
        "\n",
        "String_name=\"Ramesh Suresh Mohit\"   #Assigning the variable String_name to the name\n",
        "Values=String_name.split()          #split will separate the names and convert them into a list which is storing into variable Values\n",
        "print(Values)                       #print the variable Values after using split function"
      ],
      "metadata": {
        "colab": {
          "base_uri": "https://localhost:8080/"
        },
        "id": "SaDb1_FAjWHN",
        "outputId": "eb905b4f-58e2-4494-9b9c-422934f4f7dc"
      },
      "execution_count": null,
      "outputs": [
        {
          "output_type": "stream",
          "name": "stdout",
          "text": [
            "['Ramesh', 'Suresh', 'Mohit']\n"
          ]
        }
      ]
    },
    {
      "cell_type": "code",
      "source": [
        "type(Values) # check whether it has been converted to List or not"
      ],
      "metadata": {
        "colab": {
          "base_uri": "https://localhost:8080/"
        },
        "id": "GfKBiyYDj0KM",
        "outputId": "1c4dd5d9-e285-475e-8a92-064956cc1f93"
      },
      "execution_count": null,
      "outputs": [
        {
          "output_type": "execute_result",
          "data": {
            "text/plain": [
              "list"
            ]
          },
          "metadata": {},
          "execution_count": 8
        }
      ]
    },
    {
      "cell_type": "code",
      "source": [
        "#adding age to the names-----Two ways-----By creating dictionary\n",
        "set_Names=set(Values)  #Converting list of names to set and saving it into the variable set_names\n",
        "int_age=[25,22,26]     #taking the values of age from question and assigning variable int_age to it\n",
        "set_Age=set(int_age)   #Converting list of age to set and saving it into the variable set_Age\n",
        "diction={}             #Using Zip to convert Names and age to a dictionary where age is added to the name and it is saved as a key value pair with the variable name diction\n",
        "for i,j in zip(set_Names,set_Age):\n",
        "  diction[i]=j\n",
        "diction                #printing diction after Zip function"
      ],
      "metadata": {
        "colab": {
          "base_uri": "https://localhost:8080/"
        },
        "id": "84XuqF-1j5bu",
        "outputId": "645e6563-805f-4cd0-a645-b0cc1f25ea54"
      },
      "execution_count": null,
      "outputs": [
        {
          "output_type": "execute_result",
          "data": {
            "text/plain": [
              "{'Suresh': 25, 'Ramesh': 26, 'Mohit': 22}"
            ]
          },
          "metadata": {},
          "execution_count": 12
        }
      ]
    },
    {
      "cell_type": "code",
      "source": [
        "#Another approach to create a list with names and insert the ages:\n",
        "a=[]                                                       #Taking empty list\n",
        "for i in range(3):\n",
        "  x=input(\"Enter the value:\")                              #Entering all the names in to the list a\n",
        "  a.append(x)                                              #Appending all the names given in input to a \n",
        "print(\"Original List is:\",a)                               #Printing the list with the names\n",
        "a.insert(1,25)                                             # inserting the value with the index of the list[index,value]\n",
        "a.insert(3,26)\n",
        "a.insert(5,22)\n",
        "print(a)                                                   #printing the list after inserting the ages alongside names\n"
      ],
      "metadata": {
        "colab": {
          "base_uri": "https://localhost:8080/"
        },
        "id": "Xp-oxUacv4Yt",
        "outputId": "fd7e7dc9-8602-48a1-d674-08b1c13d7776"
      },
      "execution_count": null,
      "outputs": [
        {
          "output_type": "stream",
          "name": "stdout",
          "text": [
            "Enter the value:Suresh\n",
            "Enter the value:Ramesh\n",
            "Enter the value:Mohit\n",
            "Original List is: ['Suresh', 'Ramesh', 'Mohit']\n",
            "['Suresh', 25, 'Ramesh', 26, 'Mohit', 22]\n"
          ]
        }
      ]
    },
    {
      "cell_type": "code",
      "source": [
        "#Problem-3--WAP to find the mean value of all three tests and print the highest mean value\n",
        "# Approached the question in 2 ways--------First finding the mean subjectwise ad second finding the mean studentwise\n",
        "\n",
        "#Finding the mean Studentwise\n",
        "Python=[25,26,29,28]                                         #Taking the values of subject and \n",
        "Statistics=[23,21,19,25]\n",
        "SQL=[29,27,28,25]\n",
        "Names=[\"Sam\",\"Jacy\",\"Tom\",\"Steve\"]\n",
        "Average_Sam=(Python[0]+Statistics[0]+SQL[0])/3               #Calculating Studentwise mean using indexing in the list\n",
        "Average_Jacy=(Python[1]+Statistics[1]+SQL[1])/3\n",
        "Average_Tom=(Python[2]+Statistics[2]+SQL[2])/3\n",
        "Average_Steve=(Python[3]+Statistics[3]+SQL[3])/3\n",
        "print(\"Average of the Sam =\", round(Average_Sam, 2))\n",
        "print(\"Average of the Jacy =\", round(Average_Jacy, 2))\n",
        "print(\"Average of the Tom =\", round(Average_Tom, 2))\n",
        "print(\"Average of the Steve =\", round(Average_Steve, 2))\n",
        "print(\"Highest mean value =\", round(Average_Steve, 2))\n"
      ],
      "metadata": {
        "colab": {
          "base_uri": "https://localhost:8080/"
        },
        "id": "20x3bnbTpxUb",
        "outputId": "e40300e9-dae8-4214-9e68-76c7a4ad2ab2"
      },
      "execution_count": null,
      "outputs": [
        {
          "output_type": "stream",
          "name": "stdout",
          "text": [
            "Average of the Sam = 25.67\n",
            "Average of the Jacy = 24.67\n",
            "Average of the Tom = 25.33\n",
            "Average of the Steve = 26.0\n",
            "Highest mean value = 26.0\n"
          ]
        }
      ]
    },
    {
      "cell_type": "code",
      "source": [
        "#Problem-3--WAP to find the mean value of all three tests and print the highest mean value\n",
        "# Approached the question in 2 ways--------First finding the mean subjectwise ad second finding the mean studentwise\n",
        "\n",
        "#Finding the mean subjectwise\n",
        "Python=[25,26,29,28]\n",
        "Statistics=[23,21,19,25]\n",
        "SQL=[29,27,28,25]\n",
        "Names=[\"Sam\",\"Jacy\",\"Tom\",\"Steve\"]\n",
        "Python_average =(Python[0]+ Python[1]+ Python[2]+ Python[3])/4                  #Calculating mean subjectwise using indexing of the list\n",
        "Statistics_average =(Statistics[0]+ Statistics[1]+ Statistics[2]+ Statistics[3])/4\n",
        "SQL_average =(SQL[0]+ SQL[1]+ SQL[2]+ SQL[3])/4\n",
        "print(\"Average of the Python =\", round(Python_average, 2))\n",
        "print(\"Average of the Statistics =\", round(Statistics_average, 2))\n",
        "print(\"Average of the SQL=\", round(SQL_average, 2))\n",
        "print(\"Highest mean value=\", round(SQL_average, 2))\n"
      ],
      "metadata": {
        "colab": {
          "base_uri": "https://localhost:8080/"
        },
        "id": "kjTmPsGmd52K",
        "outputId": "3e0387eb-052c-4da9-896f-6eef34d0a69d"
      },
      "execution_count": null,
      "outputs": [
        {
          "output_type": "stream",
          "name": "stdout",
          "text": [
            "Average of the Python = 27.0\n",
            "Average of the Statistics = 22.0\n",
            "Average of the SQL= 27.25\n",
            "Highest mean value= 27.25\n"
          ]
        }
      ]
    },
    {
      "cell_type": "code",
      "source": [
        "#Finding the mean subjectwise\n",
        "\n",
        "test_list1=[25,26,29,28]\n",
        "test_list2=[23,21,19,25]\n",
        "test_list3=[29,27,28,25]\n",
        "Average_1= sum(test_list1) / len(test_list1)                            #Calculating mean subjectwise using sum function and dividing the length of the list\n",
        "Average_2= sum(test_list2) / len(test_list2)\n",
        "Average_3= sum(test_list3) / len(test_list3)\n",
        "\n",
        "print(\"Average of the list =\", round(Average_1, 2))\n",
        "print(\"Average of the list =\", round(Average_2, 2))\n",
        "print(\"Average of the list =\", round(Average_3, 2))"
      ],
      "metadata": {
        "colab": {
          "base_uri": "https://localhost:8080/"
        },
        "id": "GhqgG82idtyz",
        "outputId": "3eb7d0f9-58dd-4e5f-d333-596231b713f1"
      },
      "execution_count": null,
      "outputs": [
        {
          "output_type": "stream",
          "name": "stdout",
          "text": [
            "Average of the list = 27.0\n",
            "Average of the list = 22.0\n",
            "Average of the list = 27.25\n"
          ]
        }
      ]
    },
    {
      "cell_type": "code",
      "source": [
        "#Who got Highest marks in python-----------Approach 1\n",
        "\n",
        "Python_marks=set(Python)                   #Converting pyhton_marks to set\n",
        "Names_Python=set(Names)                    #Converting names to set\n",
        "diction={}\n",
        "for i,j in zip(Python_marks,Names_Python):    # zipping marks and name as key:value pairs\n",
        "  diction[i]=j\n",
        "print(diction)\n",
        "all_values = diction.values()                 # storing all values i.e the names in all_values variable\n",
        "max_value = max(all_values)                   #Finding the maximum of all values with max function which retuns me the name Tom as highest value\n",
        "print(max_value)\n",
        "\n"
      ],
      "metadata": {
        "colab": {
          "base_uri": "https://localhost:8080/"
        },
        "id": "MzWGnSfe5bZx",
        "outputId": "8d651db6-5678-4f9d-de3c-1883ab99047c"
      },
      "execution_count": null,
      "outputs": [
        {
          "output_type": "stream",
          "name": "stdout",
          "text": [
            "{25: 'Steve', 26: 'Jacy', 28: 'Sam', 29: 'Tom'}\n",
            "Tom\n"
          ]
        }
      ]
    },
    {
      "cell_type": "code",
      "source": [
        "#Who got Highest marks in python-----------Approach 2\n",
        "max_key = None                       #Initially taking the key:value pair as none\n",
        "max_val = None\n",
        "\n",
        "for key, val in diction.items():      #Traversing through all the items in the dictionary of key :value pairs\n",
        "\n",
        "    if max_val is None or val > max_val:   #Finding the max_value by traversing through the list\n",
        "        max_val = val                      #Storing the value in variable val\n",
        "        max_key = key                      #Storing the key in variable key\n",
        "\n",
        "\n",
        "print(max_key, max_val)\n"
      ],
      "metadata": {
        "colab": {
          "base_uri": "https://localhost:8080/"
        },
        "id": "mrysDivC87F-",
        "outputId": "30252c28-c3c4-4938-de7b-3f73fdeaafb9"
      },
      "execution_count": null,
      "outputs": [
        {
          "output_type": "stream",
          "name": "stdout",
          "text": [
            "29 Tom\n"
          ]
        }
      ]
    },
    {
      "cell_type": "code",
      "source": [
        "#Problem--4--WAP to find cost of each medicine,cost of total medicine and refund given to the patient\n",
        "\n",
        "Paracetamol_cost=35  #Cost of 1 strip\n",
        "Azithromycin_cost=49  # Cost of 1 strip\n",
        "VitaminC_cost=33      # Cost of 1 strip\n",
        "Money=2000   #Total money given by patient\n",
        "Total_cost_paracetamol=2*Paracetamol_cost   # 2 strips of paracetamol\n",
        "Total_cost_azithromycin=3*Azithromycin_cost  # 3 strips of azithromycin\n",
        "Total_cost_vitc=5*VitaminC_cost              #5 strips of VitC\n",
        "Total_cost_all_medicine=Total_cost_paracetamol+Total_cost_azithromycin+Total_cost_vitc    #Total cost of all medicines\n",
        "Refund=Money-Total_cost_all_medicine      #Refund is substracting Money given by patient - Total cost of all medicines\n",
        "print(\"Total cost of Paracetamol:\",Total_cost_paracetamol)\n",
        "print(\"Total cost of  Azithromycin:\",Total_cost_azithromycin)\n",
        "print(\"Total cost of VitC:\",Total_cost_vitc)\n",
        "print(\"Total cost of each medicine:\",Total_cost_all_medicine)\n",
        "print(\"Money refunded:\",Refund)\n",
        "\n"
      ],
      "metadata": {
        "colab": {
          "base_uri": "https://localhost:8080/"
        },
        "id": "U17tA382wnhu",
        "outputId": "4ce0287a-ca9a-4cf2-a6a7-0cd33dd6ea86"
      },
      "execution_count": null,
      "outputs": [
        {
          "output_type": "stream",
          "name": "stdout",
          "text": [
            "Total cost of Paracetamol: 70\n",
            "Total cost of  Azithromycin: 147\n",
            "Total cost of VitC: 165\n",
            "Total cost of each medicine: 382\n",
            "Money refunded: 1618\n"
          ]
        }
      ]
    },
    {
      "cell_type": "code",
      "source": [
        "#Problem-5--Accept a sentence as input and find the number of vowels in itval=input(\"Enter a sentence:\")\n",
        "vowel=0 \n",
        "val=input(\"Enter the value:\")                               #Counter of vowel is set to 0 and input is taken from user and stored in variable val\n",
        "for i in range(0,len(val)):            #for loop which starts from 0 and traverses through the length of val\n",
        "  if(val[i]==\"a\"or val[i]==\"e\" or val[i]==\"i\" or val[i]==\"o\"or val[i]==\"u\" or val[i]==\"A\" or val[i]==\"E\" or val[i]==\"I\" or val[i]==\"O\" or val[i]==\"U\"):\n",
        "      vowel+=1\n",
        "print(\"Number of vowels are:\",vowel)"
      ],
      "metadata": {
        "colab": {
          "base_uri": "https://localhost:8080/"
        },
        "id": "DjFcuLOn99LV",
        "outputId": "6ffe288c-becc-47f7-cf9d-b5da00e71947"
      },
      "execution_count": null,
      "outputs": [
        {
          "output_type": "stream",
          "name": "stdout",
          "text": [
            "Enter the value:I love python\n",
            "Number of vowels are: 4\n"
          ]
        }
      ]
    },
    {
      "cell_type": "code",
      "source": [
        "#Problem-6-- WAP to find candidates are eligible for voting or not\n",
        "x=18                                                              #value of x is set to 18\n",
        "val=int(input(\"Enter age:\"))                                      #Taking input from user about the age\n",
        "y=x-val\n",
        "if (val>=18):                                                      #y is a variable where i am substracting value of x i.e 18 and the user input\n",
        "  print(\"Congrats!You are eligible\")                               # running a loop to check whether the candidate is 18 or not\n",
        "elif(val<18):\n",
        "    print(\"Return after\",y,\"years\")"
      ],
      "metadata": {
        "colab": {
          "base_uri": "https://localhost:8080/"
        },
        "id": "V-kFfpQK-yKX",
        "outputId": "896d0a5c-e03f-48c3-8bc8-556f90c98fe9"
      },
      "execution_count": null,
      "outputs": [
        {
          "output_type": "stream",
          "name": "stdout",
          "text": [
            "Enter age:7\n",
            "Return after 11 years\n"
          ]
        }
      ]
    }
  ]
}